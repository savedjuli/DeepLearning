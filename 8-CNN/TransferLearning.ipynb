{
  "cells": [
    {
      "cell_type": "markdown",
      "metadata": {
        "id": "view-in-github",
        "colab_type": "text"
      },
      "source": [
        "<a href=\"https://colab.research.google.com/github/AIAerospace/DeepLearning/blob/main/8-CNN/TransferLearning.ipynb\" target=\"_parent\"><img src=\"https://colab.research.google.com/assets/colab-badge.svg\" alt=\"Open In Colab\"/></a>"
      ]
    },
    {
      "cell_type": "markdown",
      "metadata": {
        "id": "bc3VKR_iCQiy"
      },
      "source": [
        "# Transfer Learning"
      ]
    },
    {
      "cell_type": "markdown",
      "metadata": {
        "id": "6Q9S85bFCQi1"
      },
      "source": [
        "### 1. Utilizar un modelo pre-entrenado:"
      ]
    },
    {
      "cell_type": "code",
      "source": [
        "import keras\n",
        "from keras.preprocessing.image import load_img\n",
        "from keras.preprocessing.image import img_to_array\n",
        "from keras.applications.vgg16 import preprocess_input\n",
        "from keras.applications.vgg16 import decode_predictions\n",
        "from keras.applications.vgg16 import VGG16\n",
        "\n",
        "\n",
        "image_orig = load_img('tren.jpg', target_size=(224, 224))\n",
        "image_orig = img_to_array(image_orig)\n",
        "image_orig = image.reshape((1, image_orig.shape[0], image_orig.shape[1], image_orig.shape[2]))\n",
        "\n",
        "# preparamos la imagen para el modelo y cargamos el modelo\n",
        "image = preprocess_input(image_orig)\n",
        "model = VGG16(weights='imagenet', include_top=True)\n",
        "# predicción\n",
        "yhat = model.predict(image)           # Probabilidades\n",
        "label = decode_predictions(yhat)      # Etiquetas\n",
        "label = label[0][0]\n",
        "\n",
        "print('%s (%.2f%%)' % (label[1], label[2]*100))"
      ],
      "metadata": {
        "id": "EoBe9HQvESg6"
      },
      "execution_count": null,
      "outputs": []
    },
    {
      "cell_type": "markdown",
      "metadata": {
        "id": "KQBfgQfcCQi3"
      },
      "source": [
        "### 2. Feature transfer:\n",
        "\n",
        "Vamos a eliminar el clafificador al final de la red original, sustituirlo por el nuestro y entrenar."
      ]
    },
    {
      "cell_type": "code",
      "execution_count": null,
      "metadata": {
        "id": "ihrYohXECQi3"
      },
      "outputs": [],
      "source": [
        "from keras.datasets import cifar10\n",
        "from keras.applications import VGG16\n",
        "from keras.models import Model\n",
        "from keras.layers import Dense, GlobalAveragePooling2D,Dropout,Flatten\n",
        "from keras.utils import to_categorical\n",
        "import matplotlib.pyplot as plt\n",
        "\n",
        "# CIFAR10 Dataset\n",
        "(train_data, train_labels), (val_data, val_labels) = cifar10.load_data()\n",
        "\n",
        "# Normalizar pixel values to [0, 1]\n",
        "train_data = train_data / 255.0\n",
        "val_data = val_data / 255.0\n",
        "\n",
        "# One-hot encoding\n",
        "train_labels = to_categorical(train_labels, num_classes=10)\n",
        "val_labels = to_categorical(val_labels, num_classes=10)"
      ]
    },
    {
      "cell_type": "code",
      "execution_count": null,
      "metadata": {
        "id": "gw6vZ32ACQi3"
      },
      "outputs": [],
      "source": [
        "# Cargar el modelo VGG original, si el clasificador\n",
        "base_model = VGG16(weights='imagenet', include_top=False, input_shape=(32, 32, 3))\n",
        "x = base_model.output\n",
        "x = Dense(1024, activation='relu')(x)\n",
        "predictions = Dense(10, activation='softmax')(x)\n",
        "pretrain_model = Model(inputs=base_model.input, outputs=predictions)\n",
        "\n",
        "# Congelar las capas del modelo pre-entrenado\n",
        "for layer in base_model.layers:\n",
        "    layer.trainable = False\n",
        "\n",
        "# Compilar\n",
        "pretrain_model.compile(optimizer='adam', loss='categorical_crossentropy', metrics=['accuracy'])\n",
        "pretrain_model.summary()\n"
      ]
    },
    {
      "cell_type": "code",
      "execution_count": null,
      "metadata": {
        "id": "dQeRFgFmCQi4"
      },
      "outputs": [],
      "source": [
        "# Fit\n",
        "history_pretrain = pretrain_model.fit(train_data, train_labels, epochs=10, validation_data=(val_data, val_labels))\n"
      ]
    },
    {
      "cell_type": "markdown",
      "metadata": {
        "id": "fQJEB8dvCQi4"
      },
      "source": [
        "### 3. Fine tunning:"
      ]
    },
    {
      "cell_type": "code",
      "execution_count": null,
      "metadata": {
        "id": "QJQGTxtHCQi4"
      },
      "outputs": [],
      "source": [
        "\n",
        "base_model = VGG16(weights='imagenet', include_top=False, input_shape=(32, 32, 3))\n",
        "x = base_model.output\n",
        "x = Flatten()(x)\n",
        "x = Dense(1024, activation='relu')(x)\n",
        "predictions = Dense(10, activation='softmax')(x)\n",
        "pretrain_model = Model(inputs=base_model.input, outputs=predictions)\n",
        "pretrain_model.compile(optimizer='adam', loss='categorical_crossentropy', metrics=['accuracy'])"
      ]
    },
    {
      "cell_type": "code",
      "execution_count": null,
      "metadata": {
        "id": "CSpOVCAECQi5"
      },
      "outputs": [],
      "source": [
        "# Congelar las capas\n",
        "for layer in base_model.layers:\n",
        "    layer.trainable = False\n",
        "\n",
        "# Descongelar las cuatro ultimas\n",
        "for layer in pretrain_model.layers[-4:]:\n",
        "    layer.trainable = True\n",
        "\n",
        "# Compilar\n",
        "pretrain_model.compile(optimizer=keras.optimizers.Adam(learning_rate=0.0001), loss='categorical_crossentropy', metrics=['accuracy'])\n",
        "\n",
        "# Entrenar\n",
        "history_finetune = pretrain_model.fit(train_data, train_labels, epochs=15, validation_data=(val_data, val_labels))\n",
        "\n"
      ]
    }
  ],
  "metadata": {
    "kernelspec": {
      "display_name": "Python 3",
      "name": "python3"
    },
    "language_info": {
      "codemirror_mode": {
        "name": "ipython",
        "version": 3
      },
      "file_extension": ".py",
      "mimetype": "text/x-python",
      "name": "python",
      "nbconvert_exporter": "python",
      "pygments_lexer": "ipython3",
      "version": "3.13.1"
    },
    "colab": {
      "provenance": [],
      "machine_shape": "hm",
      "gpuType": "A100",
      "include_colab_link": true
    },
    "accelerator": "GPU"
  },
  "nbformat": 4,
  "nbformat_minor": 0
}