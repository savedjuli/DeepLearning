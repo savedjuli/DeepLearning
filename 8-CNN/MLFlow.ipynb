{
 "cells": [
  {
   "cell_type": "code",
   "execution_count": 1,
   "metadata": {},
   "outputs": [],
   "source": [
    "import mlflow"
   ]
  },
  {
   "cell_type": "code",
   "execution_count": 2,
   "metadata": {},
   "outputs": [
    {
     "name": "stdout",
     "output_type": "stream",
     "text": [
      "(7352, 128, 9)\n",
      "(2947, 128, 9)\n",
      "(7352,)\n",
      "(2947,)\n",
      "(7352, 6)\n",
      "(2947, 6)\n"
     ]
    }
   ],
   "source": [
    "import numpy as np\n",
    "import glob\n",
    "import os\n",
    "import keras\n",
    "from keras.utils import to_categorical\n",
    "\n",
    "# Asumiendo que los archivos son .txt y que el directorio está en el path actual\n",
    "file_paths = glob.glob(\"./UCIHARDataset/train/InertialSignals/*.txt\")\n",
    "\n",
    "# Lista para almacenar los datos de cada archivo\n",
    "data_list = []\n",
    "\n",
    "for file in file_paths:\n",
    "    # Carga los datos del archivo en un array de numpy\n",
    "    data = np.loadtxt(file)\n",
    "    data_list.append(data)\n",
    "    \n",
    "\n",
    "# Convierte la lista de arrays en un solo array de numpy.\n",
    "# Nota: Esto funcionará si todos los arrays tienen la misma forma.\n",
    "data_array = np.array(data_list)\n",
    "x_train = data_array.transpose(1, 2, 0)\n",
    "\n",
    "file_paths = glob.glob(\"./UCIHARDataset/test/InertialSignals/*.txt\")\n",
    "# Lista para almacenar los datos de cada archivo\n",
    "data_list = []\n",
    "\n",
    "for file in file_paths:\n",
    "    # Carga los datos del archivo en un array de numpy\n",
    "    data = np.loadtxt(file)\n",
    "    data_list.append(data)\n",
    "    \n",
    "\n",
    "# Convierte la lista de arrays en un solo array de numpy.\n",
    "# Nota: Esto funcionará si todos los arrays tienen la misma forma.\n",
    "data_array = np.array(data_list)\n",
    "x_test = data_array.transpose(1, 2, 0)\n",
    "\n",
    "y_train = np.loadtxt(\"./UCIHARDataset/train/y_train.txt\")\n",
    "y_test = np.loadtxt(\"./UCIHARDataset/test/y_test.txt\")  \n",
    "\n",
    "\n",
    "print(x_train.shape)\n",
    "print(x_test.shape)\n",
    "print(y_train.shape)\n",
    "print(y_test.shape)\n",
    "\n",
    "y_train = to_categorical(y_train - 1)\n",
    "y_test = to_categorical(y_test - 1)\n",
    "\n",
    "print(y_train.shape)\n",
    "print(y_test.shape)"
   ]
  },
  {
   "cell_type": "code",
   "execution_count": 3,
   "metadata": {},
   "outputs": [
    {
     "name": "stdout",
     "output_type": "stream",
     "text": [
      "x_train normalized:  (7352, 128, 9)\n",
      "x_test normalized:  (2947, 128, 9)\n"
     ]
    }
   ],
   "source": [
    "# Normalize x_train and x_test using the mean and standard deviation from x_train\n",
    "x_train_mean = x_train.mean()\n",
    "x_train_std = x_train.std()\n",
    "\n",
    "x_train = (x_train - x_train_mean) / x_train_std\n",
    "x_test = (x_test - x_train_mean) / x_train_std\n",
    "\n",
    "print(\"x_train normalized: \", x_train.shape)\n",
    "print(\"x_test normalized: \", x_test.shape)"
   ]
  },
  {
   "cell_type": "code",
   "execution_count": 4,
   "metadata": {},
   "outputs": [],
   "source": [
    "from keras.models import Sequential\n",
    "from keras.layers import Dense, Flatten, Dropout, Input\n",
    "from keras.layers import Conv1D, MaxPooling1D\n",
    "\n",
    "model = Sequential()\n",
    "model.add(Input(shape=(128,9)))\n",
    "model.add(Conv1D(filters=64, kernel_size=3, activation='relu'))\n",
    "model.add(MaxPooling1D(pool_size=2))\n",
    "model.add(Dropout(0.5))\n",
    "model.add(Conv1D(filters=128, kernel_size=3, activation='relu'))\n",
    "model.add(MaxPooling1D(pool_size=2))\n",
    "model.add(Dropout(0.5))\n",
    "model.add(Flatten())\n",
    "model.add(Dense(100, activation='relu'))\n",
    "model.add(Dropout(0.5))\n",
    "model.add(Dense(6, activation='softmax'))\n",
    "model.compile(loss='categorical_crossentropy', optimizer='adam', metrics=['accuracy'])"
   ]
  },
  {
   "cell_type": "code",
   "execution_count": 6,
   "metadata": {},
   "outputs": [
    {
     "data": {
      "text/html": [
       "<pre style=\"white-space:pre;overflow-x:auto;line-height:normal;font-family:Menlo,'DejaVu Sans Mono',consolas,'Courier New',monospace\"></pre>\n"
      ],
      "text/plain": []
     },
     "metadata": {},
     "output_type": "display_data"
    },
    {
     "name": "stdout",
     "output_type": "stream",
     "text": [
      "Epoch 1/4\n",
      "\u001b[1m115/115\u001b[0m \u001b[32m━━━━━━━━━━━━━━━━━━━━\u001b[0m\u001b[37m\u001b[0m \u001b[1m10s\u001b[0m 85ms/step - accuracy: 0.9564 - loss: 0.1035 - val_accuracy: 0.9080 - val_loss: 0.3758\n",
      "Epoch 2/4\n",
      "\u001b[1m115/115\u001b[0m \u001b[32m━━━━━━━━━━━━━━━━━━━━\u001b[0m\u001b[37m\u001b[0m \u001b[1m7s\u001b[0m 63ms/step - accuracy: 0.9539 - loss: 0.1015 - val_accuracy: 0.9186 - val_loss: 0.2947\n",
      "Epoch 3/4\n",
      "\u001b[1m115/115\u001b[0m \u001b[32m━━━━━━━━━━━━━━━━━━━━\u001b[0m\u001b[37m\u001b[0m \u001b[1m7s\u001b[0m 61ms/step - accuracy: 0.9549 - loss: 0.1008 - val_accuracy: 0.9186 - val_loss: 0.3100\n",
      "Epoch 4/4\n",
      "\u001b[1m115/115\u001b[0m \u001b[32m━━━━━━━━━━━━━━━━━━━━\u001b[0m\u001b[37m\u001b[0m \u001b[1m6s\u001b[0m 50ms/step - accuracy: 0.9633 - loss: 0.0899 - val_accuracy: 0.9179 - val_loss: 0.3771\n",
      "🏃 View run adventurous-loon-473 at: http://127.0.0.1:8080/#/experiments/234596372402911890/runs/2818641bc06c44faadd5aeb5cd8b9d05\n",
      "🧪 View experiment at: http://127.0.0.1:8080/#/experiments/234596372402911890\n"
     ]
    }
   ],
   "source": [
    "\n",
    "mlflow.set_tracking_uri(uri=\"http://127.0.0.1:8080\")\n",
    "\n",
    "# Create a new MLflow Experiment\n",
    "mlflow.set_experiment(\"Ejemplo con MLflow\")\n",
    "\n",
    "\n",
    "\n",
    "run = mlflow.start_run()\n",
    "history = model.fit(x_train, y_train, epochs=4, batch_size=64, validation_data=(x_test, y_test),callbacks=[mlflow.keras.MlflowCallback(run)])\n",
    "mlflow.end_run()"
   ]
  }
 ],
 "metadata": {
  "kernelspec": {
   "display_name": "deepl",
   "language": "python",
   "name": "python3"
  },
  "language_info": {
   "codemirror_mode": {
    "name": "ipython",
    "version": 3
   },
   "file_extension": ".py",
   "mimetype": "text/x-python",
   "name": "python",
   "nbconvert_exporter": "python",
   "pygments_lexer": "ipython3",
   "version": "3.13.1"
  }
 },
 "nbformat": 4,
 "nbformat_minor": 2
}
